{
 "cells": [
  {
   "cell_type": "markdown",
   "id": "f962d366",
   "metadata": {},
   "source": [
    "## Task\n",
    "要修改一个列表lista = [1,2,4,4,10,6,7,5,20]，用以下代码把其中偶数删除，但最终得到的结果是有部分偶数没有删除，为什么没有删除干净？\n",
    "for i in lista:\n",
    "    if i % 2 == 0:\n",
    "        lista.remove(i)\n",
    "请用python写一个方法，以最小的代价来把所有偶数都删除，并说明为什么这样写可以删除所有偶数？\n",
    "如果方法的时间复杂度为O(n)，空间复杂度为O(1)，要怎么实现？\n",
    "\n",
    "### English Translation : \n",
    "**To modify a list lista = [1,2,4,4,10,6,7,5,20], use the following code to delete the even numbers, but the final result is that some even numbers are not deleted, why are they not deleted cleanly ?\n",
    "for i in lista:\n",
    "     if i % 2 == 0:\n",
    "         lista.remove(i)\n",
    "Please write a method in python to delete all even numbers with the least cost, and explain why this writing can delete all even numbers?\n",
    "If the time complexity of the method is O(n) and the space complexity is O(1), how to implement it?**"
   ]
  },
  {
   "cell_type": "code",
   "execution_count": 1,
   "id": "0e5333b1",
   "metadata": {},
   "outputs": [],
   "source": [
    "lista = [1,2,4,4,10,6,7,5,20]"
   ]
  },
  {
   "cell_type": "code",
   "execution_count": 2,
   "id": "dd3b5f81",
   "metadata": {},
   "outputs": [
    {
     "data": {
      "text/plain": [
       "'for i in lista:\\n     if i % 2 == 0:\\n        lista.remove(i)'"
      ]
     },
     "execution_count": 2,
     "metadata": {},
     "output_type": "execute_result"
    }
   ],
   "source": [
    "#your code given in question\n",
    "\"\"\"for i in lista:\n",
    "     if i % 2 == 0:\n",
    "        lista.remove(i)\"\"\""
   ]
  },
  {
   "cell_type": "markdown",
   "id": "bada580b",
   "metadata": {},
   "source": [
    "### Question #01\n",
    "#### The final result is that some even numbers are not deleted,why are they not deleted cleanly ?\n",
    "Answer:   \n",
    "You are passing the objects to Remove which are not in your list you are trying to remove but copy of your object in other the list, that is why they are not being deleted,"
   ]
  },
  {
   "cell_type": "markdown",
   "id": "231a0317",
   "metadata": {},
   "source": [
    "### write a method in python to delete all even numbers with the least cost"
   ]
  },
  {
   "cell_type": "code",
   "execution_count": 3,
   "id": "68145b89",
   "metadata": {},
   "outputs": [
    {
     "name": "stdout",
     "output_type": "stream",
     "text": [
      "[1, 7, 5]\n"
     ]
    }
   ],
   "source": [
    "lista = [x for x in lista if x%2!=0]\n",
    "print(lista)"
   ]
  },
  {
   "cell_type": "markdown",
   "id": "171cdf78",
   "metadata": {},
   "source": [
    "### Question # 02 \n",
    "#### Explain why this written code can delete all even numbers?\n",
    "\n",
    "Answer:      \n",
    "Step#1: line 1 execute lista= [1,2,4,4,10,6,7,5,20]        \n",
    "Step#2: line 3 Global frame is lista and object is list elements \n",
    " when the loop run each time the it basically do the list iterator instance by going through the each index one by one and returns the odd number in the output. \n",
    "Return values [7, 25, 27]"
   ]
  },
  {
   "cell_type": "markdown",
   "id": "c143faf0",
   "metadata": {},
   "source": [
    "### Question # 03\n",
    "#### If the time complexity of the method is O(n) and the space complexity is O(1), how to implement it?The time complexity of an algorithm quantifies the amount of time taken by an algorithm to run as a function of the length of the input. Note that the time to run is a function of the length of the input and not the actual execution time of the machine on which the algorithm is running on.\n",
    "\n",
    "Answer:   \n",
    "Generally, there is always more than one way to solve a problem in computer science with different algorithms. Therefore, it is highly required to use a method to compare the solutions in order to judge which one is more optimal. The method must be:\n",
    "\n",
    "The time complexity of an algorithm quantifies the amount of time taken by an algorithm to run as a function of the length of the input. Note that the time to run is a function of the length of the input and not the actual execution time of the machine on which the algorithm is running on. In order to calculate time complexity on an algorithm, it is assumed that a constant time c is taken to execute one operation, and then the total operations for an input length on N are calculated\n",
    "\n",
    "The space complexity of an algorithm quantifies the amount of space taken by an algorithm to run as a function of the length of the input.\n",
    "Space Complexity = Auxiliary Space + Space used for input values.\n",
    "Hence, the total space complexity = 4*4 + 4 = 20 bytes."
   ]
  }
 ],
 "metadata": {
  "kernelspec": {
   "display_name": "Python 3 (ipykernel)",
   "language": "python",
   "name": "python3"
  },
  "language_info": {
   "codemirror_mode": {
    "name": "ipython",
    "version": 3
   },
   "file_extension": ".py",
   "mimetype": "text/x-python",
   "name": "python",
   "nbconvert_exporter": "python",
   "pygments_lexer": "ipython3",
   "version": "3.10.2"
  }
 },
 "nbformat": 4,
 "nbformat_minor": 5
}
